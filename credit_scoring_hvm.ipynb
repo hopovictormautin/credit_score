{
 "cells": [
  {
   "cell_type": "code",
   "execution_count": 2,
   "metadata": {},
   "outputs": [],
   "source": [
    "import pandas as pd\n",
    "#credit_score = pd.read_csv('file_path.csv')\n",
    "\n",
    "#Check for null values.\n",
    "#credit_score.info()\n",
    "#credit_score.isnull().sum()\n",
    "#credit_score.isna().sum()\n"
   ]
  },
  {
   "cell_type": "markdown",
   "metadata": {},
   "source": [
    "#Data Preprocessing\n",
    "#Visualise the dispersion\n",
    "\n",
    "print(credit_score['total_income'].min(),\n",
    "credit_score['total_income'].max(),\n",
    "credit_score['total_income'].mean(),\n",
    "credit_score['total_income'].median())\n",
    "credit_score['total_income'].hist(bins=100)\n",
    "credit_score['total_income'] = credit_score['total_income'].fillna(0)\n"
   ]
  },
  {
   "cell_type": "code",
   "execution_count": null,
   "metadata": {},
   "outputs": [],
   "source": [
    "#Processing missing values\n",
    "credit_score.loc[(credit_score['income_type'] == 'retiree') & (credit_score['total_income'] == 0 ), 'total_income'] = credit_score[credit_score['income_type'] == 'retiree']['total_income'].median()\n",
    "credit_score.loc[(credit_score['income_type'] == 'employee') & (credit_score['total_income'] == 0), 'total_income'] = credit_score[credit_score['income_type'] == 'employee']['total_income'].median()\n",
    "credit_score.loc[(credit_score['income_type'] == 'business') & (credit_score['total_income'] == 0), 'total_income'] = credit_score[credit_score['income_type'] == 'business']['total_income'].median()\n",
    "credit_score.loc[(credit_score['income_type'] == 'civil servant') & (credit_score['total_income'] == 0), 'total_income'] = credit_score[credit_score['income_type'] == 'civil servant']['total_income'].median()\n",
    "credit_score.loc[(credit_score['income_type'] == 'unemployed') & (credit_score['total_income'] == 0), 'total_income'] = credit_score[credit_score['income_type'] == 'unemployed']['total_income'].median()\n",
    "credit_score.loc[(credit_score['income_type'] == 'entrepreneur') & (credit_score['total_income'] == 0), 'total_income'] = credit_score[credit_score['income_type'] == 'entrepreneur']['total_income'].median()\n",
    "\n",
    "\n",
    "\n",
    "credit_score['days_employed'] = credit_score['days_employed'].abs()  # converted to positive\n",
    "credit_score['days_employed'] = credit_score['days_employed'].astype('float32')\n",
    "credit_score['days_employed'].hist(bins=100)"
   ]
  },
  {
   "cell_type": "code",
   "execution_count": 4,
   "metadata": {},
   "outputs": [],
   "source": [
    "#credit_score[credit_score['days_employed']>= 320000]['days_employed']\n",
    "\n",
    "print(credit_score[credit_score['days_employed'] >=300000]['income_type'].unique())\n",
    "\n",
    "#only retirees and unemployed have abnormally high days_employed.\n",
    "credit_score[(credit_score['days_employed'] <=300000)]['days_employed'].max()/365\n",
    "\n",
    "\n",
    "#print(credit_score['days_employed'].min())    # time cannot be negative\n",
    "credit_score['days_employed'] = credit_score['days_employed'].abs()  # converted to positive\n",
    "#credit_score['days_employed'] = credit_score['days_employed'].astype('int')\n",
    "\n",
    "credit_score.loc[(credit_score['days_employed'] >=300000), 'days_employed']= credit_score[(credit_score['days_employed'] <=300000)]['days_employed'].max()\n",
    "\n",
    "\n",
    "\n",
    "credit_score['days_employed'] = credit_score['days_employed'].fillna(0)\n",
    "\n",
    "credit_score['days_employed'].hist(bins=100)"
   ]
  },
  {
   "cell_type": "code",
   "execution_count": null,
   "metadata": {},
   "outputs": [],
   "source": [
    "credit_score.loc[(credit_score['income_type'] == 'retiree') & (credit_score['days_employed'] == 0 ), 'days_employed'] = credit_score[credit_score['income_type'] == 'retiree']['days_employed'].median()\n",
    "credit_score.loc[(credit_score['income_type'] == 'employee') & (credit_score['days_employed'] == 0), 'days_employed'] = credit_score[credit_score['income_type'] == 'employee']['days_employed'].median()\n",
    "credit_score.loc[(credit_score['income_type'] == 'business') & (credit_score['days_employed'] == 0), 'days_employed'] = credit_score[credit_score['income_type'] == 'business']['days_employed'].median()\n",
    "credit_score.loc[(credit_score['income_type'] == 'civil servant') & (credit_score['days_employed'] == 0), 'days_employed'] = credit_score[credit_score['income_type'] == 'civil servant']['days_employed'].median()\n",
    "credit_score.loc[(credit_score['income_type'] == 'unemployed') & (credit_score['days_employed'] == 0), 'days_employed'] = credit_score[credit_score['income_type'] == 'unemployed']['days_employed'].median()\n",
    "credit_score.loc[(credit_score['income_type'] == 'entrepreneur') & (credit_score['days_employed'] == 0), 'days_employed'] = credit_score[credit_score['income_type'] == 'entrepreneur']['days_employed'].median()"
   ]
  },
  {
   "cell_type": "code",
   "execution_count": null,
   "metadata": {},
   "outputs": [],
   "source": [
    "credit_score['education'].value_counts()"
   ]
  },
  {
   "cell_type": "code",
   "execution_count": null,
   "metadata": {},
   "outputs": [],
   "source": [
    "#Data type replacement\n",
    "\n",
    "credit_score['days_employed'] = credit_score['days_employed'].astype('int')\n",
    "credit_score['total_income'] = credit_score['total_income'].astype('int')\n",
    "credit_score['education'] = credit_score['education'].str.lower()\n",
    "#too many duplicates written in different cases in the education column\n",
    "credit_score['education'].value_counts()"
   ]
  },
  {
   "cell_type": "code",
   "execution_count": 6,
   "metadata": {},
   "outputs": [],
   "source": [
    "#Categorizing Data\n",
    "\n",
    "pivot_children = credit_score.pivot_table(index = 'children',values = 'debt')\n",
    "\n",
    "\n",
    "pivot_children.plot(kind = 'bar')\n",
    "\n",
    "pivot_family_status = credit_score.pivot_table(index = 'family_status',values = 'debt')\n",
    "pivot_family_status.sort_values(by = 'debt', inplace= True)\n",
    "\n",
    "pivot_family_status.plot(kind = 'bar')\n",
    "\n",
    "\n",
    "pivot_children_sum = credit_score.pivot_table(index = 'children',values = 'debt', aggfunc = 'sum')\n",
    "pivot_children_sum.sort_values(by = 'children', inplace= True)\n",
    "print(pivot_children_sum)\n",
    "\n",
    "pivot_children_count = credit_score.pivot_table(index = 'children',values = 'debt', aggfunc = 'count')\n",
    "pivot_children_count.sort_values(by = 'children', inplace= True)\n",
    "print(pivot_children_count)\n",
    "print()\n",
    "ratio_debtors_to_children = (credit_score.groupby('children')['debt'].sum()/credit_score.groupby('children')['debt'].count()).sort_values()\n",
    "print(ratio_debtors_to_children)\n",
    "ratio_debtors_to_children.plot(kind = 'bar')"
   ]
  },
  {
   "cell_type": "code",
   "execution_count": null,
   "metadata": {},
   "outputs": [],
   "source": [
    "pivot_family_status_sum = credit_score.pivot_table(index = 'family_status',values = 'debt', aggfunc = 'sum')\n",
    "pivot_family_status_sum.sort_values(by = 'family_status', inplace= True)\n",
    "print(pivot_family_status_sum)\n",
    "\n",
    "pivot_family_status_count = credit_score.pivot_table(index = 'family_status',values = 'debt', aggfunc = 'count')\n",
    "pivot_family_status_count.sort_values(by = 'family_status', inplace= True)\n",
    "print(pivot_family_status_count)\n",
    "print()\n",
    "ratio_debtors_to_family_status = (credit_score.groupby('family_status')['debt'].sum()/credit_score.groupby('family_status')['debt'].count()).sort_values()\n",
    "print(ratio_debtors_to_family_status)\n",
    "ratio_debtors_to_family_status.plot(kind = 'bar')"
   ]
  },
  {
   "cell_type": "code",
   "execution_count": null,
   "metadata": {},
   "outputs": [],
   "source": [
    "credit_score['total_income'].quantile(0.75)\n",
    "\n",
    "low_income_limit = credit_score['total_income'].quantile(0.25)\n",
    "high_income_limit = credit_score['total_income'].quantile(0.75)\n",
    "print(low_income_limit,high_income_limit)\n",
    "\n",
    "def income_category(income):\n",
    "    if income <= low_income_limit:\n",
    "        return 'low_income'\n",
    "    elif income >= high_income_limit:\n",
    "        return 'high_income'\n",
    "    else:\n",
    "        return 'middle_income'\n",
    "    \n",
    "credit_score['income_category'] = credit_score['total_income'].apply(income_category)\n",
    "\n",
    "\n",
    "pivot_income_category_sum = credit_score.pivot_table(index = 'income_category',values = 'debt', aggfunc = 'sum')\n",
    "pivot_income_category_sum.sort_values(by = 'income_category', inplace= True)\n",
    "print(pivot_income_category_sum)\n",
    "\n",
    "pivot_income_category_count = credit_score.pivot_table(index = 'income_category',values = 'debt', aggfunc = 'count')\n",
    "pivot_income_category_count.sort_values(by = 'income_category', inplace= True)\n",
    "print(pivot_income_category_count)\n",
    "print()\n",
    "ratio_debtors_to_income_category = (credit_score.groupby('income_category')['debt'].sum()/credit_score.groupby('income_category')['debt'].count()).sort_values()\n",
    "print(ratio_debtors_to_income_category)\n",
    "ratio_debtors_to_income_category.plot(kind = 'bar')\n"
   ]
  },
  {
   "cell_type": "code",
   "execution_count": null,
   "metadata": {},
   "outputs": [],
   "source": [
    "#there are 38 items listed under purpose. whereas, all these purposes fall under 4 main categories: \n",
    "#education, housing_or_real_estate,car,wedding\n",
    "\n",
    "def purpose_category(purpose):\n",
    "    if 'educat' in purpose or 'university' in purpose:\n",
    "        return 'education'\n",
    "    elif 'hous' in purpose or  'build' in purpose or 'property' in purpose or  \"estate\" in purpose:\n",
    "        return 'housing_or_real_estate'\n",
    "    elif  'car' in purpose:\n",
    "        return 'car'\n",
    "    elif 'wedding' in purpose:\n",
    "        return 'wedding'\n",
    "    else:\n",
    "        return purpose\n",
    "    \n",
    "credit_score['purpose_category'] = credit_score['purpose'].apply(purpose_category)\n",
    "\n",
    "pivot_purpose_sum = credit_score.pivot_table(index = 'purpose_category',values = 'debt', aggfunc = 'sum')\n",
    "pivot_purpose_sum.sort_values(by = 'purpose_category', inplace= True)\n",
    "print(pivot_purpose_sum)\n",
    "\n",
    "pivot_purpose_count = credit_score.pivot_table(index = 'purpose_category',values = 'debt', aggfunc = 'count')\n",
    "pivot_purpose_count.sort_values(by = 'purpose_category', inplace= True)\n",
    "print(pivot_purpose_count)\n",
    "print()\n",
    "#grouped = credit_score['purpose_category'].value_counts()\n",
    "ratio_debtors_to_purpose = (credit_score.groupby('purpose_category')['debt'].sum()/credit_score.groupby('purpose_category')['debt'].count()).sort_values()\n",
    "print(ratio_debtors_to_purpose)\n",
    "ratio_debtors_to_purpose.plot(kind = 'bar')"
   ]
  }
 ],
 "metadata": {
  "kernelspec": {
   "display_name": "Python 3",
   "language": "python",
   "name": "python3"
  },
  "language_info": {
   "codemirror_mode": {
    "name": "ipython",
    "version": 3
   },
   "file_extension": ".py",
   "mimetype": "text/x-python",
   "name": "python",
   "nbconvert_exporter": "python",
   "pygments_lexer": "ipython3",
   "version": "3.7.1"
  }
 },
 "nbformat": 4,
 "nbformat_minor": 4
}
