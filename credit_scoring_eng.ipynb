{
 "cells": [
  {
   "cell_type": "markdown",
   "metadata": {},
   "source": [
    "# Review\n",
    "Hi, Victor. My name is Roman and I`m going to review your project.\n",
    "\n",
    "You can find my comments in colored boxes like this:\n",
    "\n",
    "<div class=\"alert alert-success\">\n",
    "    If everything is done succesfully.\n",
    "</div>\n",
    "\n",
    "<div class=\"alert alert-info\">\n",
    "    If I have some (optional) suggestions, or questions to think about, or general comments.\n",
    "</div>\n",
    "\n",
    "<div class=\"alert alert-danger\">\n",
    "    If a section requires some corrections. Work can't be accepted with red comments.\n",
    "</div>\n",
    "\n",
    "Please don't delete my comments. Great if you choose **<font color=\"orange\">visible color</font>**  or **text format** for your comments - It's easier for us to follow the corrections.\n",
    "\n",
    "### <font color=\"orange\">**Summary:**</font>  \n",
    "Thank you for sending your project. You've done a really good job on it!   \n",
    "While there's room for improvement, on the whole, your project is impressive/looking good.  \n",
    "I've found some tiny mistakes in your project. They'll be easy to fix.  \n",
    "\"Improve\" comments mean that there are tiny corrections which could help you to make your project better.   \n",
    "Every issue with our code is a chance for us to learn something new."
   ]
  },
  {
   "cell_type": "markdown",
   "metadata": {},
   "source": [
    "### <font color=\"orange\">**Summary 4:**</font>  \n",
    "How R U, Victor?  \n",
    "All done! Congrats!  \n",
    "I wish you good luck to the next projects!"
   ]
  },
  {
   "cell_type": "markdown",
   "metadata": {},
   "source": [
    "## Analyzing borrowers’ risk of defaulting\n",
    "\n",
    "Your project is to prepare a report for a bank’s loan division. You’ll need to find out if a customer’s marital status and number of children has an impact on whether they will default on a loan. The bank already has some data on customers’ credit worthiness.\n",
    "\n",
    "Your report will be considered when building a **credit scoring** of a potential customer. A ** credit scoring ** is used to evaluate the ability of a potential borrower to repay their loan."
   ]
  },
  {
   "cell_type": "markdown",
   "metadata": {},
   "source": [
    "### Step 1. Open the data file and have a look at the general information. "
   ]
  },
  {
   "cell_type": "code",
   "execution_count": 1,
   "metadata": {},
   "outputs": [],
   "source": [
    "import pandas as pd\n",
    "credit_score = pd.read_csv('/datasets/credit_scoring_eng.csv')\n",
    "#credit_score.info()\n",
    "#credit_score.isnull().sum()\n",
    "#credit_score.isna().sum()\n",
    "#print(credit_score.head(13))\n"
   ]
  },
  {
   "cell_type": "markdown",
   "metadata": {},
   "source": [
    "### Conclusion"
   ]
  },
  {
   "cell_type": "markdown",
   "metadata": {},
   "source": [
    "There are no null values.\n",
    "- Strings\n",
    "In credit_score['education'] column, there are duplicated strings with different cases(lower or upper)\n",
    "#In credit_score['purpose'] column, some purporses have same meaning but different strings were used. e.g. 'having a wedding' and 'to have a wedding'\n",
    "\n",
    "- Integers\n",
    "In credit_score['education_id'] , credit_score['family_status_id'], credit_score['children'] and credit_score['dob_years'] columns, int64 was used. Such amount of memory is not needed for such data.\n",
    "In credit_score['days_employed'] and credit_score['total_income'] columns, float64 was used.\n",
    "credit_score['children'] has a negative value of '-1'. Probably because the child died\n",
    "credit_score['days_emploed'] has lots of negative values"
   ]
  },
  {
   "cell_type": "markdown",
   "metadata": {},
   "source": [
    "<div class=\"alert alert-success\">\n",
    "\n",
    "### Comment\n",
    "\n",
    "Good job in start!  \n",
    "Your conclusion looks realy nice!  \n",
    "</div>"
   ]
  },
  {
   "cell_type": "markdown",
   "metadata": {},
   "source": [
    "### Step 2. Data preprocessing"
   ]
  },
  {
   "cell_type": "markdown",
   "metadata": {},
   "source": [
    "### Processing missing values"
   ]
  },
  {
   "cell_type": "code",
   "execution_count": 2,
   "metadata": {},
   "outputs": [
    {
     "name": "stdout",
     "output_type": "stream",
     "text": [
      "3306.762 362496.645 26787.56835465867 23202.87\n"
     ]
    },
    {
     "data": {
      "image/png": "[encoded data removed]",
      "text/plain": [
       "<Figure size 432x288 with 1 Axes>"
      ]
     },
     "metadata": {
      "needs_background": "light"
     },
     "output_type": "display_data"
    }
   ],
   "source": [
    "print(credit_score['total_income'].min(),\n",
    "credit_score['total_income'].max(),\n",
    "credit_score['total_income'].mean(),\n",
    "credit_score['total_income'].median())\n",
    "credit_score['total_income'].hist(bins=100)\n",
    "credit_score['total_income'] = credit_score['total_income'].fillna(0)\n",
    "\n",
    "#credit_score['days_employed'] = \n",
    "#Because there are a few outliers, it would be more reasonable to use median instead of mean to fill the missing values in total_income column."
   ]
  },
  {
   "cell_type": "code",
   "execution_count": 3,
   "metadata": {},
   "outputs": [],
   "source": [
    "credit_score.loc[(credit_score['income_type'] == 'retiree') & (credit_score['total_income'] == 0 ), 'total_income'] = credit_score[credit_score['income_type'] == 'retiree']['total_income'].median()\n",
    "credit_score.loc[(credit_score['income_type'] == 'employee') & (credit_score['total_income'] == 0), 'total_income'] = credit_score[credit_score['income_type'] == 'employee']['total_income'].median()\n",
    "credit_score.loc[(credit_score['income_type'] == 'business') & (credit_score['total_income'] == 0), 'total_income'] = credit_score[credit_score['income_type'] == 'business']['total_income'].median()\n",
    "credit_score.loc[(credit_score['income_type'] == 'civil servant') & (credit_score['total_income'] == 0), 'total_income'] = credit_score[credit_score['income_type'] == 'civil servant']['total_income'].median()\n",
    "credit_score.loc[(credit_score['income_type'] == 'unemployed') & (credit_score['total_income'] == 0), 'total_income'] = credit_score[credit_score['income_type'] == 'unemployed']['total_income'].median()\n",
    "credit_score.loc[(credit_score['income_type'] == 'entrepreneur') & (credit_score['total_income'] == 0), 'total_income'] = credit_score[credit_score['income_type'] == 'entrepreneur']['total_income'].median()"
   ]
  },
  {
   "cell_type": "code",
   "execution_count": 4,
   "metadata": {},
   "outputs": [],
   "source": [
    "#I filled the misssing values in the total_income column with the median total_income of each category of income_type.\n",
    "#E.g. All missing values of retirees in the total_income column are filled with the median values of retiree category"
   ]
  },
  {
   "cell_type": "markdown",
   "metadata": {},
   "source": [
    "<div class=\"alert alert-success\">\n",
    "\n",
    "### Comment 2\n",
    "\n",
    "Perfect\n",
    "</div>"
   ]
  },
  {
   "cell_type": "code",
   "execution_count": 5,
   "metadata": {},
   "outputs": [
    {
     "data": {
      "text/plain": [
       "<matplotlib.axes._subplots.AxesSubplot at 0x7fd19def2510>"
      ]
     },
     "execution_count": 5,
     "metadata": {},
     "output_type": "execute_result"
    },
    {
     "data": {
      "image/png": "[encoded data removed]",
      "text/plain": [
       "<Figure size 432x288 with 1 Axes>"
      ]
     },
     "metadata": {
      "needs_background": "light"
     },
     "output_type": "display_data"
    }
   ],
   "source": [
    "#print(credit_score['days_employed'].min())    # time cannot be negative\n",
    "credit_score['days_employed'] = credit_score['days_employed'].abs()  # converted to positive\n",
    "credit_score['days_employed'] = credit_score['days_employed'].astype('float32')\n",
    "credit_score['days_employed'].hist(bins=100)"
   ]
  },
  {
   "cell_type": "code",
   "execution_count": 6,
   "metadata": {},
   "outputs": [
    {
     "name": "stdout",
     "output_type": "stream",
     "text": [
      "['retiree' 'unemployed']\n"
     ]
    }
   ],
   "source": [
    "#credit_score[credit_score['days_employed']>= 320000]['days_employed']\n",
    "\n",
    "print(credit_score[credit_score['days_employed'] >=300000]['income_type'].unique())\n",
    "\n",
    "#only retirees and unemployed have abnormally high days_employed."
   ]
  },
  {
   "cell_type": "code",
   "execution_count": 7,
   "metadata": {
    "scrolled": true
   },
   "outputs": [
    {
     "data": {
      "text/plain": [
       "50.38068279109589"
      ]
     },
     "execution_count": 7,
     "metadata": {},
     "output_type": "execute_result"
    }
   ],
   "source": [
    "#credit_score[(credit_score['income_type'] =='retiree') & (credit_score['days_employed'] >=300000)]['days_employed']\n",
    "credit_score[(credit_score['days_employed'] <=300000)]['days_employed'].max()/365\n",
    "\n",
    "#Without the outliers which are 'retiree' and 'unemployed', the maximum employment days/365 is 50. \n",
    "#This seems reasonable.\n",
    "#I would replace the abnormally high days_employed with the maximum value"
   ]
  },
  {
   "cell_type": "code",
   "execution_count": 8,
   "metadata": {},
   "outputs": [],
   "source": [
    "#print(credit_score['days_employed'].min())    # time cannot be negative\n",
    "credit_score['days_employed'] = credit_score['days_employed'].abs()  # converted to positive\n",
    "#credit_score['days_employed'] = credit_score['days_employed'].astype('int')\n",
    "\n",
    "credit_score.loc[(credit_score['days_employed'] >=300000), 'days_employed']= credit_score[(credit_score['days_employed'] <=300000)]['days_employed'].max()"
   ]
  },
  {
   "cell_type": "code",
   "execution_count": 9,
   "metadata": {},
   "outputs": [
    {
     "data": {
      "text/plain": [
       "<matplotlib.axes._subplots.AxesSubplot at 0x7fd15fceec50>"
      ]
     },
     "execution_count": 9,
     "metadata": {},
     "output_type": "execute_result"
    },
    {
     "data": {
      "image/png": "[encoded data removed]",
      "text/plain": [
       "<Figure size 432x288 with 1 Axes>"
      ]
     },
     "metadata": {
      "needs_background": "light"
     },
     "output_type": "display_data"
    }
   ],
   "source": [
    "credit_score['days_employed'] = credit_score['days_employed'].fillna(0)\n",
    "\n",
    "credit_score['days_employed'].hist(bins=100)"
   ]
  },
  {
   "cell_type": "markdown",
   "metadata": {},
   "source": [
    "### Conclusion"
   ]
  },
  {
   "cell_type": "code",
   "execution_count": 10,
   "metadata": {},
   "outputs": [],
   "source": [
    "credit_score.loc[(credit_score['income_type'] == 'retiree') & (credit_score['days_employed'] == 0 ), 'days_employed'] = credit_score[credit_score['income_type'] == 'retiree']['days_employed'].median()\n",
    "credit_score.loc[(credit_score['income_type'] == 'employee') & (credit_score['days_employed'] == 0), 'days_employed'] = credit_score[credit_score['income_type'] == 'employee']['days_employed'].median()\n",
    "credit_score.loc[(credit_score['income_type'] == 'business') & (credit_score['days_employed'] == 0), 'days_employed'] = credit_score[credit_score['income_type'] == 'business']['days_employed'].median()\n",
    "credit_score.loc[(credit_score['income_type'] == 'civil servant') & (credit_score['days_employed'] == 0), 'days_employed'] = credit_score[credit_score['income_type'] == 'civil servant']['days_employed'].median()\n",
    "credit_score.loc[(credit_score['income_type'] == 'unemployed') & (credit_score['days_employed'] == 0), 'days_employed'] = credit_score[credit_score['income_type'] == 'unemployed']['days_employed'].median()\n",
    "credit_score.loc[(credit_score['income_type'] == 'entrepreneur') & (credit_score['days_employed'] == 0), 'days_employed'] = credit_score[credit_score['income_type'] == 'entrepreneur']['days_employed'].median()"
   ]
  },
  {
   "cell_type": "markdown",
   "metadata": {},
   "source": [
    "<div class=\"alert alert-success\">\n",
    "\n",
    "### Comment 2\n",
    "\n",
    "All done\n",
    "</div>"
   ]
  },
  {
   "cell_type": "code",
   "execution_count": 11,
   "metadata": {},
   "outputs": [
    {
     "data": {
      "text/plain": [
       "secondary education    13750\n",
       "bachelor's degree       4718\n",
       "SECONDARY EDUCATION      772\n",
       "Secondary Education      711\n",
       "some college             668\n",
       "BACHELOR'S DEGREE        274\n",
       "Bachelor's Degree        268\n",
       "primary education        250\n",
       "Some College              47\n",
       "SOME COLLEGE              29\n",
       "PRIMARY EDUCATION         17\n",
       "Primary Education         15\n",
       "graduate degree            4\n",
       "Graduate Degree            1\n",
       "GRADUATE DEGREE            1\n",
       "Name: education, dtype: int64"
      ]
     },
     "execution_count": 11,
     "metadata": {},
     "output_type": "execute_result"
    }
   ],
   "source": [
    "credit_score['education'].value_counts()"
   ]
  },
  {
   "cell_type": "markdown",
   "metadata": {},
   "source": [
    "About 10% of the total_income values are missing. Similarly days_emploeyed too. \n",
    "There are 2174 values missing in 'total_income' and 'days_employed' columns. \n",
    "Both of the columns are quantitative variables\n",
    "One of the two columns seems to be a MNAR values.( Missing Not At Random)\n",
    "\n",
    "Also, there were few outliers in total_income column,\n",
    "Because there are a few outliers, it would be more reasonable to use median instead of mean to fill the missing values in total_income column.\n",
    "I filled the misssing values in the total_income column with the median total_income of each category of income_type.\n",
    "E.g. All missing values of retirees in the total_income column are filled with the median values of retiree category\n",
    "\n",
    "There were an ample fraction of outliers in days_employed.\n",
    "Without the outliers which are 'retiree' and 'unemployed', the maximum employment days/365 is 50. \n",
    "This seems reasonable.\n",
    "I replaced the abnormally high days_employed with the maximum value.\n"
   ]
  },
  {
   "cell_type": "markdown",
   "metadata": {},
   "source": [
    "<div class=\"alert alert-danger\">\n",
    "\n",
    "### Comment\n",
    "\n",
    "So, no worries. There are some issues:\n",
    "- gaps in days_employed: It would be better to fill in the gaps. Gaps for example can be filled with one median / mean or zero, or for educational purposes it would be better to handle more carefully. Moreover, there is nothing terrible there. First Check negative values and correct them. Then you should pay attention to too large values (in a large number of rows) - when recalculated for years, they give 800-1100 years of experience (simply dividing by 365!), Which is unacceptable. Then maybe these are not days at all (not all rows, but only these \"giants\") ?! Perhaps it is enough to simply divide large values (by 24) and that's it, the data (available) will be ready (processed). And about filling in the gaps: ONLY now, when all the available values are correct, it will be possible to think about how to fill in the gaps ... here you can customize the filling of the gaps, for example, by the type of employment. Look... if you fill in the gaps with one common median (average), then there will be borrowers who have age more experience. \n",
    "    \n",
    "- gaps in income: It would be better to fill in too. it would be acceptable to fill in one common average / median or zero if the data did not contain any other fields by which borrowers can be divided. Do you think entrepreneurs and students will have the same average / median income? ;)\n",
    "- there can exist not only Nan/Null-gaps. 0-values are also gaps. Please find them and decide what to do. It doesnt mean that you should transform them, but its very importand to find out them.\n",
    "- conclusion: please, summarize all actions in part, what did you do, and what the sence of it?\n",
    "</div>"
   ]
  },
  {
   "cell_type": "markdown",
   "metadata": {},
   "source": [
    "<div class=\"alert alert-danger\">\n",
    "\n",
    "### Comment 2\n",
    "\n",
    "Ok, nice try. But your dataset lost 10% data. it means that something went wrong. I gave you the good plan to filling the gaps in red comment above. why don't you use it?\n",
    "- correct negative values in days_empoyed;\n",
    "- fix big values here (deviding them (not all) by 24);\n",
    "- filling gaps here by one or several values;\n",
    "- filling gaps in total_income by SEVERAL values, calculated by another field, income_type for example. (few medians). Its important. We cant use only one value for filling all gaps in total_income!\n",
    "- finding 0s. find? ok. yeah, it can be dropped, but dob_years do not effect to main ansvers, so we can leave them without changing at all.\n",
    "\n",
    "</div>"
   ]
  },
  {
   "cell_type": "markdown",
   "metadata": {},
   "source": [
    "<div class=\"alert alert-success\">\n",
    "\n",
    "### Comment 2\n",
    "\n",
    "Well done\n",
    "</div>"
   ]
  },
  {
   "cell_type": "markdown",
   "metadata": {},
   "source": [
    "### Data type replacement"
   ]
  },
  {
   "cell_type": "code",
   "execution_count": 12,
   "metadata": {},
   "outputs": [
    {
     "data": {
      "text/plain": [
       "secondary education    15233\n",
       "bachelor's degree       5260\n",
       "some college             744\n",
       "primary education        282\n",
       "graduate degree            6\n",
       "Name: education, dtype: int64"
      ]
     },
     "execution_count": 12,
     "metadata": {},
     "output_type": "execute_result"
    }
   ],
   "source": [
    "credit_score['days_employed'] = credit_score['days_employed'].astype('int')\n",
    "credit_score['total_income'] = credit_score['total_income'].astype('int')\n",
    "credit_score['education'] = credit_score['education'].str.lower()\n",
    "#too many duplicates written in different cases in the education column\n",
    "credit_score['education'].value_counts()"
   ]
  },
  {
   "cell_type": "markdown",
   "metadata": {},
   "source": [
    "### Conclusion"
   ]
  },
  {
   "cell_type": "markdown",
   "metadata": {},
   "source": [
    "I aslo eliminated too many duplicates written in different cases in the education column by using lower string\n",
    "\n",
    "I also converted the total_income and day_employed to int32 becuase these decimals were not needed and they take unneccesary memory\n"
   ]
  },
  {
   "cell_type": "markdown",
   "metadata": {},
   "source": [
    "<div class=\"alert alert-danger\">\n",
    "\n",
    "### Comment\n",
    "\n",
    "Something went wrong.\n",
    "- what about total_income and days_employed... Do we need numbers after dot?\n",
    "    \n",
    "</div>"
   ]
  },
  {
   "cell_type": "markdown",
   "metadata": {},
   "source": [
    "<div class=\"alert alert-success\">\n",
    "\n",
    "### Comment 2\n",
    "\n",
    "Good!\n",
    "</div>"
   ]
  },
  {
   "cell_type": "markdown",
   "metadata": {},
   "source": [
    "### Processing duplicates"
   ]
  },
  {
   "cell_type": "code",
   "execution_count": 13,
   "metadata": {},
   "outputs": [],
   "source": [
    "credit_score.drop_duplicates(inplace = True)"
   ]
  },
  {
   "cell_type": "code",
   "execution_count": 14,
   "metadata": {},
   "outputs": [
    {
     "data": {
      "text/plain": [
       "0"
      ]
     },
     "execution_count": 14,
     "metadata": {},
     "output_type": "execute_result"
    }
   ],
   "source": [
    "credit_score.duplicated().sum()"
   ]
  },
  {
   "cell_type": "markdown",
   "metadata": {},
   "source": [
    "### Conclusion"
   ]
  },
  {
   "cell_type": "markdown",
   "metadata": {},
   "source": [
    "I wrote to drop any existing duplicate but no duplicate was found.\n",
    "Data contains no duplicates"
   ]
  },
  {
   "cell_type": "markdown",
   "metadata": {},
   "source": [
    "<div class=\"alert alert-warning\">\n",
    "\n",
    "### Comment\n",
    "\n",
    "Yeah, done.  Notice that all steps of project should end by conclusion\n",
    "    \n",
    "</div>"
   ]
  },
  {
   "cell_type": "markdown",
   "metadata": {},
   "source": [
    "### Categorizing Data"
   ]
  },
  {
   "cell_type": "code",
   "execution_count": 15,
   "metadata": {},
   "outputs": [
    {
     "name": "stdout",
     "output_type": "stream",
     "text": [
      "              debt\n",
      "children          \n",
      " 5        0.000000\n",
      "-1        0.021277\n",
      " 0        0.075444\n",
      " 3        0.081818\n",
      " 1        0.092346\n",
      " 2        0.094542\n",
      " 4        0.097561\n",
      " 20       0.105263\n"
     ]
    },
    {
     "data": {
      "text/plain": [
       "<matplotlib.axes._subplots.AxesSubplot at 0x7fd162ed1390>"
      ]
     },
     "execution_count": 15,
     "metadata": {},
     "output_type": "execute_result"
    },
    {
     "data": {
      "image/png": "[encoded data removed]",
      "text/plain": [
       "<Figure size 432x288 with 1 Axes>"
      ]
     },
     "metadata": {
      "needs_background": "light"
     },
     "output_type": "display_data"
    }
   ],
   "source": [
    "pivot_children = credit_score.pivot_table(index = 'children',values = 'debt')\n",
    "\n",
    "print(pivot_children.sort_values(by = 'debt'))\n",
    "\n",
    "pivot_children.plot(kind = 'bar')"
   ]
  },
  {
   "cell_type": "code",
   "execution_count": 16,
   "metadata": {},
   "outputs": [
    {
     "name": "stdout",
     "output_type": "stream",
     "text": [
      "                       debt\n",
      "family_status              \n",
      "widow / widower    0.065693\n",
      "divorced           0.071130\n",
      "married            0.075452\n",
      "civil partnership  0.093494\n",
      "unmarried          0.097509\n"
     ]
    },
    {
     "data": {
      "text/plain": [
       "<matplotlib.axes._subplots.AxesSubplot at 0x7fd15fa55190>"
      ]
     },
     "execution_count": 16,
     "metadata": {},
     "output_type": "execute_result"
    },
    {
     "data": {
      "image/png": "[encoded data removed]",
      "text/plain": [
       "<Figure size 432x288 with 1 Axes>"
      ]
     },
     "metadata": {
      "needs_background": "light"
     },
     "output_type": "display_data"
    }
   ],
   "source": [
    "pivot_family_status = credit_score.pivot_table(index = 'family_status',values = 'debt')\n",
    "pivot_family_status.sort_values(by = 'debt', inplace= True)\n",
    "print(pivot_family_status)\n",
    "\n",
    "pivot_family_status.plot(kind = 'bar')"
   ]
  },
  {
   "cell_type": "code",
   "execution_count": null,
   "metadata": {},
   "outputs": [],
   "source": []
  },
  {
   "cell_type": "markdown",
   "metadata": {},
   "source": [
    "### Conclusion"
   ]
  },
  {
   "cell_type": "markdown",
   "metadata": {},
   "source": [
    "#Asides those with 3 and 5 children, there's a cummulative increase in debt with the amount of children.\n",
    "#There are negative values for children which I assume the children died.\n",
    "#The least debtors are widow / widowers and the civil partnership and unmarried are the most debtors"
   ]
  },
  {
   "cell_type": "code",
   "execution_count": null,
   "metadata": {},
   "outputs": [],
   "source": []
  },
  {
   "cell_type": "markdown",
   "metadata": {},
   "source": [
    "<div class=\"alert alert-danger\">\n",
    "\n",
    "### Comment 3 !\n",
    "\n",
    "This section should have 2 categorizations: income and loan purpose. Unfortunately, there are none. Instead,% of delinquencies in some categories are calculated here, although for these purposes there is the next part of the project. Well ok, this is not critical. But without a clear categorization (income and purpose of the loan), I cannot accept the project. \n",
    "- There was already a categorization of income. Why did you delete it? it was technically done correctly, it was only necessary to change the boundaries of division into categories.\n",
    "- There are also should be creating few categories of 'purpose' in this step\n",
    "    \n",
    "</div>"
   ]
  },
  {
   "cell_type": "code",
   "execution_count": null,
   "metadata": {},
   "outputs": [],
   "source": []
  },
  {
   "cell_type": "markdown",
   "metadata": {},
   "source": [
    "<div class=\"alert alert-danger\">\n",
    "\n",
    "### Comment\n",
    "\n",
    "- Sorry, the categorisation of income are not correct. Why 1026/3995 and 12375? What this numbers are? try to study more closely the distribution of values in the income column and create the new borders after it. This trick might help you: https://pandas.pydata.org/pandas-docs/stable/reference/api/pandas.qcut.html\n",
    "- we dont need to split all children-categories to 2 cat. They are already good. 1-2-3-...\n",
    "- There are also should be creating few categories of 'purpose' in this step\n",
    "    \n",
    "</div>"
   ]
  },
  {
   "cell_type": "code",
   "execution_count": null,
   "metadata": {},
   "outputs": [],
   "source": []
  },
  {
   "cell_type": "code",
   "execution_count": null,
   "metadata": {},
   "outputs": [],
   "source": []
  },
  {
   "cell_type": "markdown",
   "metadata": {},
   "source": [
    "<div class=\"alert alert-danger\">\n",
    "\n",
    "### Comment 2\n",
    "\n",
    "There are no changes. Look:\n",
    "- why it so important good categories? Because it helps to get more correct ansver further. There are 3 cat. in your \"level_of_income\", and one of them have mostly count of all and another one have only 8. It doesnt help to get good ansver because its too little group. I proposed create another groups - link in comment above, or choose your new borders.\n",
    "- we allready have good categories in \"children\" (1,2,3,4,5,20). Moreover, please pay attention to negative values there.\n",
    "- There are also should be creating few categories of 'purpose' in this step\n",
    "</div>"
   ]
  },
  {
   "cell_type": "markdown",
   "metadata": {},
   "source": [
    "<div class=\"alert alert-danger\">\n",
    "\n",
    "### Comment 4\n",
    "There are still no any categorization!\n",
    "    \n",
    "</div>"
   ]
  },
  {
   "cell_type": "markdown",
   "metadata": {},
   "source": [
    "### Step 3. Answer these questions"
   ]
  },
  {
   "cell_type": "markdown",
   "metadata": {},
   "source": [
    "- Is there a relation between having kids and repaying a loan on time?"
   ]
  },
  {
   "cell_type": "code",
   "execution_count": 17,
   "metadata": {},
   "outputs": [
    {
     "name": "stdout",
     "output_type": "stream",
     "text": [
      "8\n"
     ]
    }
   ],
   "source": [
    "print(credit_score['children'].value_counts().count())"
   ]
  },
  {
   "cell_type": "code",
   "execution_count": 18,
   "metadata": {},
   "outputs": [
    {
     "name": "stdout",
     "output_type": "stream",
     "text": [
      "          debt\n",
      "children      \n",
      "-1           1\n",
      " 0        1063\n",
      " 1         444\n",
      " 2         194\n",
      " 3          27\n",
      " 4           4\n",
      " 5           0\n",
      " 20          8\n",
      "           debt\n",
      "children       \n",
      "-1           47\n",
      " 0        14090\n",
      " 1         4808\n",
      " 2         2052\n",
      " 3          330\n",
      " 4           41\n",
      " 5            9\n",
      " 20          76\n",
      "\n",
      "children\n",
      " 5     0.000000\n",
      "-1     0.021277\n",
      " 0     0.075444\n",
      " 3     0.081818\n",
      " 1     0.092346\n",
      " 2     0.094542\n",
      " 4     0.097561\n",
      " 20    0.105263\n",
      "Name: debt, dtype: float64\n"
     ]
    },
    {
     "data": {
      "text/plain": [
       "<matplotlib.axes._subplots.AxesSubplot at 0x7fd15f9df950>"
      ]
     },
     "execution_count": 18,
     "metadata": {},
     "output_type": "execute_result"
    },
    {
     "data": {
      "image/png": "[encoded data removed]",
      "text/plain": [
       "<Figure size 432x288 with 1 Axes>"
      ]
     },
     "metadata": {
      "needs_background": "light"
     },
     "output_type": "display_data"
    }
   ],
   "source": [
    "pivot_children_sum = credit_score.pivot_table(index = 'children',values = 'debt', aggfunc = 'sum')\n",
    "pivot_children_sum.sort_values(by = 'children', inplace= True)\n",
    "print(pivot_children_sum)\n",
    "\n",
    "pivot_children_count = credit_score.pivot_table(index = 'children',values = 'debt', aggfunc = 'count')\n",
    "pivot_children_count.sort_values(by = 'children', inplace= True)\n",
    "print(pivot_children_count)\n",
    "print()\n",
    "ratio_debtors_to_children = (credit_score.groupby('children')['debt'].sum()/credit_score.groupby('children')['debt'].count()).sort_values()\n",
    "print(ratio_debtors_to_children)\n",
    "ratio_debtors_to_children.plot(kind = 'bar')"
   ]
  },
  {
   "cell_type": "code",
   "execution_count": null,
   "metadata": {},
   "outputs": [],
   "source": []
  },
  {
   "cell_type": "markdown",
   "metadata": {},
   "source": [
    "### Conclusion"
   ]
  },
  {
   "cell_type": "markdown",
   "metadata": {},
   "source": [
    "There are 8 unique categories of children owners in the column.\n",
    "Asides those with 3 and 5 children, there's a cummulative increase in debt with the amount of children.\n",
    "people with 20 children owe the most. 10.5% of the entire 76 of them owe debt followed by people with 4 children which 4 out of the 41 of them owe debts(9.7%).\n",
    "\n",
    "5 is the magic number. '5ers' are debt free. :)"
   ]
  },
  {
   "cell_type": "markdown",
   "metadata": {},
   "source": [
    "<div class=\"alert alert-warning\">\n",
    "\n",
    "### Comment 3 !\n",
    "\n",
    "transfer here the code that resulted in you getting this answer. try to describe the categories in more detail. not only the worst / best but all.\n",
    "    \n",
    "</div>"
   ]
  },
  {
   "cell_type": "markdown",
   "metadata": {},
   "source": [
    "<div class=\"alert alert-danger\">\n",
    "\n",
    "### Comment 2\n",
    "\n",
    "- So, we dont need to split all children-categories to 3 cat. They are already good. 1-2-3-... \n",
    "- We need to know a share of delays for each catecory we use. Let s have a look to \"0\"-category. There are 14090 borrowers and only 1058 have debt. What does it mean? It means that only 7.54%(1058/14090*100) of its group are \"bad-debtors\"... And we need to do this calculations for all categories by using code :). And then match them results in conclusion. In conclusion we should to describe all categories you researched, not only write \"yes, it is/no it isnt\" or \"yes, people with children are more debtors\".... aaaaallll categories....\n",
    "</div>"
   ]
  },
  {
   "cell_type": "markdown",
   "metadata": {},
   "source": [
    "<div class=\"alert alert-success\">\n",
    "\n",
    "### Comment 4\n",
    "\n",
    "Yeah, done.\n",
    "    \n",
    "</div>"
   ]
  },
  {
   "cell_type": "markdown",
   "metadata": {},
   "source": [
    "- Is there a relation between marital status and repaying a loan on time?"
   ]
  },
  {
   "cell_type": "code",
   "execution_count": 19,
   "metadata": {},
   "outputs": [
    {
     "name": "stdout",
     "output_type": "stream",
     "text": [
      "married              12339\n",
      "civil partnership     4150\n",
      "unmarried             2810\n",
      "divorced              1195\n",
      "widow / widower        959\n",
      "Name: family_status, dtype: int64\n"
     ]
    }
   ],
   "source": [
    "print(credit_score['family_status'].value_counts())\n",
    "#credit_score.info()"
   ]
  },
  {
   "cell_type": "code",
   "execution_count": 20,
   "metadata": {},
   "outputs": [
    {
     "name": "stdout",
     "output_type": "stream",
     "text": [
      "                   debt\n",
      "family_status          \n",
      "civil partnership   388\n",
      "divorced             85\n",
      "married             931\n",
      "unmarried           274\n",
      "widow / widower      63\n",
      "                    debt\n",
      "family_status           \n",
      "civil partnership   4150\n",
      "divorced            1195\n",
      "married            12339\n",
      "unmarried           2810\n",
      "widow / widower      959\n",
      "\n",
      "family_status\n",
      "widow / widower      0.065693\n",
      "divorced             0.071130\n",
      "married              0.075452\n",
      "civil partnership    0.093494\n",
      "unmarried            0.097509\n",
      "Name: debt, dtype: float64\n"
     ]
    },
    {
     "data": {
      "text/plain": [
       "<matplotlib.axes._subplots.AxesSubplot at 0x7fd15f967b90>"
      ]
     },
     "execution_count": 20,
     "metadata": {},
     "output_type": "execute_result"
    },
    {
     "data": {
      "image/png": "[encoded data removed]",
      "text/plain": [
       "<Figure size 432x288 with 1 Axes>"
      ]
     },
     "metadata": {
      "needs_background": "light"
     },
     "output_type": "display_data"
    }
   ],
   "source": [
    "pivot_family_status_sum = credit_score.pivot_table(index = 'family_status',values = 'debt', aggfunc = 'sum')\n",
    "pivot_family_status_sum.sort_values(by = 'family_status', inplace= True)\n",
    "print(pivot_family_status_sum)\n",
    "\n",
    "pivot_family_status_count = credit_score.pivot_table(index = 'family_status',values = 'debt', aggfunc = 'count')\n",
    "pivot_family_status_count.sort_values(by = 'family_status', inplace= True)\n",
    "print(pivot_family_status_count)\n",
    "print()\n",
    "ratio_debtors_to_family_status = (credit_score.groupby('family_status')['debt'].sum()/credit_score.groupby('family_status')['debt'].count()).sort_values()\n",
    "print(ratio_debtors_to_family_status)\n",
    "ratio_debtors_to_family_status.plot(kind = 'bar')"
   ]
  },
  {
   "cell_type": "markdown",
   "metadata": {},
   "source": [
    "### Conclusion"
   ]
  },
  {
   "cell_type": "markdown",
   "metadata": {},
   "source": [
    "The least debtors are widow / widowers and the civil partnership and unmarried are the most debtors.\n",
    "of all the 959 widow/widowers owing, on 63 were still oweing which is 6.5%.\n",
    "\n",
    "Divorced 85 out of 1195 - 7.1%\n",
    "\n",
    "married - 931 out of 12339 - 7.5%\n",
    "\n",
    "civil patnership - 388 out of 4151 - 9.3%\n",
    "\n",
    "unmarried - 274 out of 2810 - 9.7%\n",
    "\n",
    "It seems unmarried people have a lot of unshared financial burdens. Hence the high percentage of debtors. :)\n"
   ]
  },
  {
   "cell_type": "markdown",
   "metadata": {},
   "source": [
    "<div class=\"alert alert-warning\">\n",
    "\n",
    "### Comment 3 !\n",
    "\n",
    "transfer here the code that resulted in you getting this answer. try to describe the categories in more detail. not only the worst / best but all.\n",
    "    \n",
    "</div>"
   ]
  },
  {
   "cell_type": "markdown",
   "metadata": {},
   "source": [
    "<div class=\"alert alert-danger\">\n",
    "\n",
    "### Comment\n",
    "\n",
    "The same issue.\n",
    "- and please try to be more detailed. Describe all categories you explored and differences between them. Add some your own thoughts. What do you think about result? (this applying for all 4 answers)\n",
    "</div>"
   ]
  },
  {
   "cell_type": "markdown",
   "metadata": {},
   "source": [
    "<div class=\"alert alert-danger\">\n",
    "\n",
    "### Comment 2\n",
    "\n",
    "There are no changes.\n",
    "-what are the percentages of the studied categories?\n",
    "- what are the differences?\n",
    "- by what percentage?\n",
    "- Why do you think such a result?\n",
    "    \n",
    "</div>"
   ]
  },
  {
   "cell_type": "markdown",
   "metadata": {},
   "source": [
    "<div class=\"alert alert-success\">\n",
    "\n",
    "### Comment 4\n",
    "\n",
    "done.\n",
    "    \n",
    "</div>"
   ]
  },
  {
   "cell_type": "markdown",
   "metadata": {},
   "source": [
    "- Is there a relation between income level and repaying a loan on time?"
   ]
  },
  {
   "cell_type": "code",
   "execution_count": 21,
   "metadata": {},
   "outputs": [
    {
     "name": "stdout",
     "output_type": "stream",
     "text": [
      "17219.0 31331.0\n",
      "                 debt\n",
      "income_category      \n",
      "high_income       383\n",
      "low_income        427\n",
      "middle_income     931\n",
      "                  debt\n",
      "income_category       \n",
      "high_income       5365\n",
      "low_income        5364\n",
      "middle_income    10724\n",
      "\n",
      "income_category\n",
      "high_income      0.071389\n",
      "low_income       0.079605\n",
      "middle_income    0.086815\n",
      "Name: debt, dtype: float64\n"
     ]
    },
    {
     "data": {
      "text/plain": [
       "<matplotlib.axes._subplots.AxesSubplot at 0x7fd15f8de150>"
      ]
     },
     "execution_count": 21,
     "metadata": {},
     "output_type": "execute_result"
    },
    {
     "data": {
      "image/png": "[encoded data removed]",
      "text/plain": [
       "<Figure size 432x288 with 1 Axes>"
      ]
     },
     "metadata": {
      "needs_background": "light"
     },
     "output_type": "display_data"
    }
   ],
   "source": [
    "credit_score['total_income'].quantile(0.75)\n",
    "\n",
    "low_income_limit = credit_score['total_income'].quantile(0.25)\n",
    "high_income_limit = credit_score['total_income'].quantile(0.75)\n",
    "print(low_income_limit,high_income_limit)\n",
    "\n",
    "def income_category(income):\n",
    "    if income <= low_income_limit:\n",
    "        return 'low_income'\n",
    "    elif income >= high_income_limit:\n",
    "        return 'high_income'\n",
    "    else:\n",
    "        return 'middle_income'\n",
    "    \n",
    "credit_score['income_category'] = credit_score['total_income'].apply(income_category)\n",
    "\n",
    "\n",
    "pivot_income_category_sum = credit_score.pivot_table(index = 'income_category',values = 'debt', aggfunc = 'sum')\n",
    "pivot_income_category_sum.sort_values(by = 'income_category', inplace= True)\n",
    "print(pivot_income_category_sum)\n",
    "\n",
    "pivot_income_category_count = credit_score.pivot_table(index = 'income_category',values = 'debt', aggfunc = 'count')\n",
    "pivot_income_category_count.sort_values(by = 'income_category', inplace= True)\n",
    "print(pivot_income_category_count)\n",
    "print()\n",
    "ratio_debtors_to_income_category = (credit_score.groupby('income_category')['debt'].sum()/credit_score.groupby('income_category')['debt'].count()).sort_values()\n",
    "print(ratio_debtors_to_income_category)\n",
    "ratio_debtors_to_income_category.plot(kind = 'bar')\n"
   ]
  },
  {
   "cell_type": "markdown",
   "metadata": {},
   "source": [
    "### Conclusion"
   ]
  },
  {
   "cell_type": "markdown",
   "metadata": {},
   "source": [
    "After categorisizing into three income groups based on the 25% and 75% quantiles namely \n",
    "lower (earners below 17219.5), middle (earners high than 17219.5 but less than 31331.0) and high income (earners higher than 31331.0) groups, i noticed the following:\n",
    "\n",
    "middle_income earners have the highest share of debtors among all income_categories. 931 out of 1725 are owing. 8.6%\n",
    "high_income earners have the least share of debtors because only 383 people are still owing out of 5365. 7.1%\n",
    "\n",
    "\n",
    "High income earners pay up than others. :)"
   ]
  },
  {
   "cell_type": "markdown",
   "metadata": {},
   "source": [
    "<div class=\"alert alert-warning\">\n",
    "\n",
    "### Comment 3 !\n",
    "\n",
    "...because there are no categorization. \n",
    "    \n",
    "</div>"
   ]
  },
  {
   "cell_type": "markdown",
   "metadata": {},
   "source": [
    "<div class=\"alert alert-success\">\n",
    "\n",
    "### Comment 4\n",
    "\n",
    "Oh, categorization is appearing). Good!\n",
    "    \n",
    "</div>"
   ]
  },
  {
   "cell_type": "markdown",
   "metadata": {},
   "source": [
    "<div class=\"alert alert-danger\">\n",
    "\n",
    "### Comment\n",
    "\n",
    "The same issue.\n",
    "</div>"
   ]
  },
  {
   "cell_type": "markdown",
   "metadata": {},
   "source": [
    "<div class=\"alert alert-danger\">\n",
    "\n",
    "### Comment 2\n",
    "\n",
    "There are no changes.\n",
    "-what are the percentages of the studied categories?\n",
    "- what are the differences?\n",
    "- by what percentage?\n",
    "- Why do you think such a result?\n",
    "    \n",
    "</div>"
   ]
  },
  {
   "cell_type": "markdown",
   "metadata": {},
   "source": [
    "- How do different loan purposes affect on-time repayment of the loan?"
   ]
  },
  {
   "cell_type": "code",
   "execution_count": 22,
   "metadata": {},
   "outputs": [
    {
     "name": "stdout",
     "output_type": "stream",
     "text": [
      "38\n"
     ]
    }
   ],
   "source": [
    "print(credit_score['purpose'].value_counts().count())"
   ]
  },
  {
   "cell_type": "code",
   "execution_count": 23,
   "metadata": {},
   "outputs": [
    {
     "name": "stdout",
     "output_type": "stream",
     "text": [
      "                        debt\n",
      "purpose_category            \n",
      "car                      403\n",
      "education                370\n",
      "housing_or_real_estate   782\n",
      "wedding                  186\n",
      "                         debt\n",
      "purpose_category             \n",
      "car                      4306\n",
      "education                4013\n",
      "housing_or_real_estate  10811\n",
      "wedding                  2323\n",
      "\n",
      "purpose_category\n",
      "housing_or_real_estate    0.072334\n",
      "wedding                   0.080069\n",
      "education                 0.092200\n",
      "car                       0.093590\n",
      "Name: debt, dtype: float64\n"
     ]
    },
    {
     "data": {
      "text/plain": [
       "<matplotlib.axes._subplots.AxesSubplot at 0x7fd15f88f810>"
      ]
     },
     "execution_count": 23,
     "metadata": {},
     "output_type": "execute_result"
    },
    {
     "data": {
      "image/png": "[encoded data removed]",
      "text/plain": [
       "<Figure size 432x288 with 1 Axes>"
      ]
     },
     "metadata": {
      "needs_background": "light"
     },
     "output_type": "display_data"
    }
   ],
   "source": [
    "#there are 38 items listed under purpose. whereas, all these purposes fall under 4 main categories: \n",
    "#education, housing_or_real_estate,car,wedding\n",
    "\n",
    "def purpose_category(purpose):\n",
    "    if 'educat' in purpose or 'university' in purpose:\n",
    "        return 'education'\n",
    "    elif 'hous' in purpose or  'build' in purpose or 'property' in purpose or  \"estate\" in purpose:\n",
    "        return 'housing_or_real_estate'\n",
    "    elif  'car' in purpose:\n",
    "        return 'car'\n",
    "    elif 'wedding' in purpose:\n",
    "        return 'wedding'\n",
    "    else:\n",
    "        return purpose\n",
    "    \n",
    "credit_score['purpose_category'] = credit_score['purpose'].apply(purpose_category)\n",
    "\n",
    "pivot_purpose_sum = credit_score.pivot_table(index = 'purpose_category',values = 'debt', aggfunc = 'sum')\n",
    "pivot_purpose_sum.sort_values(by = 'purpose_category', inplace= True)\n",
    "print(pivot_purpose_sum)\n",
    "\n",
    "pivot_purpose_count = credit_score.pivot_table(index = 'purpose_category',values = 'debt', aggfunc = 'count')\n",
    "pivot_purpose_count.sort_values(by = 'purpose_category', inplace= True)\n",
    "print(pivot_purpose_count)\n",
    "print()\n",
    "#grouped = credit_score['purpose_category'].value_counts()\n",
    "ratio_debtors_to_purpose = (credit_score.groupby('purpose_category')['debt'].sum()/credit_score.groupby('purpose_category')['debt'].count()).sort_values()\n",
    "print(ratio_debtors_to_purpose)\n",
    "ratio_debtors_to_purpose.plot(kind = 'bar')"
   ]
  },
  {
   "cell_type": "markdown",
   "metadata": {},
   "source": [
    "Conclusion"
   ]
  },
  {
   "cell_type": "markdown",
   "metadata": {},
   "source": [
    "there are 38 unique items listed under purpose. whereas, all these purposes fall under 4 main categories: \n",
    "education, housing_or_real_estate,car,wedding.\n",
    "\n",
    "\n",
    "when comparing categories, with '1' as debt still being owed and '0' as debt paid, car owners appear to be the highest debtors because 9.35% of them still owe debt(403 out of 4036), followed by loan takers for education and loan takers for wedding.\n",
    "house_or_real_estate have the lowest amount of debts among the category of debtors: 7.32%.\n",
    "\n",
    "\n",
    "It seems a car is a liabilty while real_estate is an asset. :)"
   ]
  },
  {
   "cell_type": "markdown",
   "metadata": {},
   "source": [
    "<div class=\"alert alert-warning\">\n",
    "\n",
    "### Comment 3 !\n",
    "\n",
    "please, first - add categorization and then calculate % of debtors in each categorie\n",
    "    \n",
    "</div>"
   ]
  },
  {
   "cell_type": "markdown",
   "metadata": {},
   "source": [
    "<div class=\"alert alert-success\">\n",
    "\n",
    "### Comment 4\n",
    "\n",
    "Yeeeeeeaahh! Well done!\n",
    "    \n",
    "</div>"
   ]
  },
  {
   "cell_type": "markdown",
   "metadata": {},
   "source": [
    "<div class=\"alert alert-danger\">\n",
    "\n",
    "### Comment\n",
    "\n",
    "try to follow the plan:\n",
    "- creating categories\n",
    "- calculating shares of bad-debtors...\n",
    "- conclusion\n",
    "</div>"
   ]
  },
  {
   "cell_type": "markdown",
   "metadata": {},
   "source": [
    "<div class=\"alert alert-danger\">\n",
    "\n",
    "### Comment 2\n",
    "\n",
    "There are no changes.\n",
    "    \n",
    "</div>"
   ]
  },
  {
   "cell_type": "markdown",
   "metadata": {},
   "source": [
    "### Step 4. General conclusion"
   ]
  },
  {
   "cell_type": "markdown",
   "metadata": {},
   "source": [
    "The data is very quite messy, especially the days_employed column. But the descripancies have been resolved.\n",
    "\n",
    "In cases were applicable, missing values were filled witht he median of respective category.\n",
    "\n",
    "\n",
    "The highest categories of defaulters are people with 20 children. 10.5% of them are still owing followed by unmarried people who have 9.7% share of debtors.\n",
    "\n",
    "If i would recommend potential borrowers that will pay back, the following groups would be favorably considered:\n",
    "1. Borrowers for housing or real estate. Only 7.2% of them are owing and that is the lowest with respect to borrowers' purpose. It seems hosuing is the best asset sompared to other purposes.\n",
    "2.  High_income earners (earners with total_income above 30331) too have a good reputation of paying back. Only 7.1% which is also the lowest in the category of income earners \n",
    "3. Widow/widowers have the best record in respect of marital status. only 63 out of 959 have not paid. 6.5%\n",
    "4. People with 5 children have no single debtor.\n",
    "\n",
    "\n",
    "Conclusively, my ideal candidate for the best borrower would be a high_income earning widow/widower that earns above 30331 with five children thatwants to borrow for housing purpose.  "
   ]
  },
  {
   "cell_type": "markdown",
   "metadata": {},
   "source": [
    "<div class=\"alert alert-danger\">\n",
    "\n",
    "### Comment\n",
    "    \n",
    "The final conclusion, unfortunately, escaped ). Customers (and they only read the output, they don't need the code) would be happy to see something more detailed and voluminous that they can read. Now for filling:\n",
    "\n",
    "- what was our goal?\n",
    "- what data did we have in our hands?\n",
    "- how we processed / modified / worked with gaps and duplicates + reasoning on the appearance of duplicates / zeros / gaps / artifacts.\n",
    "- general figures for the entire table. Average percentage of delinquency, which groups are more (for example, pensioners)\n",
    "- answers to questions - in as much detail as possible for all groups with numbers and reasoning.\n",
    "- and at the very end \"what was the goal and how the answers to the questions will help to achieve this goal\"\n",
    "    \n",
    "This is an approximate plan of the final output for any analytical project. I propose to add your own according to it and everything will be fine!\n",
    "</div>"
   ]
  },
  {
   "cell_type": "markdown",
   "metadata": {},
   "source": [
    "<div class=\"alert alert-danger\">\n",
    "\n",
    "### Comment 2\n",
    "\n",
    "There are no changes. Its very important. It means that for the analyst, the ability to write large, detailed conclusions is as important as the ability to write code. when HR hiring appreciate first of all this skill and not the possession of python.\n",
    "    \n",
    "</div>"
   ]
  },
  {
   "cell_type": "markdown",
   "metadata": {},
   "source": [
    "### Project Readiness Checklist\n",
    "\n",
    "Put 'x' in the completed points. Then press Shift + Enter."
   ]
  },
  {
   "cell_type": "markdown",
   "metadata": {},
   "source": [
    "I used the worldbank income index to categorise total_income level"
   ]
  },
  {
   "cell_type": "markdown",
   "metadata": {},
   "source": [
    "<div class=\"alert alert-danger\">\n",
    "\n",
    "### Comment 2\n",
    "\n",
    "There are no info about currency or country in our project, so we need to use only statistic methods.\n",
    "</div>"
   ]
  },
  {
   "cell_type": "markdown",
   "metadata": {},
   "source": [
    "<div class=\"alert alert-danger\">\n",
    "\n",
    "### Comment 3 !\n",
    "\n",
    "we don't need a description of the ideal client for the bank. we need a detailed description of the entire project and detailed figures for each category of persons. You already have a plan\n",
    "</div>"
   ]
  },
  {
   "cell_type": "markdown",
   "metadata": {},
   "source": [
    "<div class=\"alert alert-success\">\n",
    "\n",
    "### Comment 4\n",
    "\n",
    "Well done!\n",
    "    \n",
    "</div>"
   ]
  },
  {
   "cell_type": "code",
   "execution_count": null,
   "metadata": {},
   "outputs": [],
   "source": []
  }
 ],
 "metadata": {
  "kernelspec": {
   "display_name": "Python 3",
   "language": "python",
   "name": "python3"
  },
  "language_info": {
   "codemirror_mode": {
    "name": "ipython",
    "version": 3
   },
   "file_extension": ".py",
   "mimetype": "text/x-python",
   "name": "python",
   "nbconvert_exporter": "python",
   "pygments_lexer": "ipython3",
   "version": "3.7.6"
  }
 },
 "nbformat": 4,
 "nbformat_minor": 2
}
